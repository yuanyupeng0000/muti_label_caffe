{
 "cells": [
  {
   "cell_type": "code",
   "execution_count": 2,
   "metadata": {},
   "outputs": [],
   "source": [
    "import numpy as np  \n",
    "import sys,os  \n",
    "\n",
    "cv2_root = '/usr/local/lib/python3.6/site-packages/'\n",
    "sys.path.insert(0, cv2_root)\n",
    "import cv2\n",
    "caffe_root = '/data/caffe/' \n",
    "sys.path.insert(0, caffe_root + 'python')  \n",
    "import caffe  "
   ]
  },
  {
   "cell_type": "code",
   "execution_count": null,
   "metadata": {},
   "outputs": [],
   "source": [
    "net_file= '/data/MobileNet-SSD/deploy.prototxt'  \n",
    "caffe_model='/data/MobileNet-SSD/MobileNetSSD_deploy.caffemodel'  \n",
    "test_dir = \"images\"\n",
    "\n",
    "if not os.path.exists(caffe_model):\n",
    "    print(\"MobileNetSSD_deploy.caffemodel does not exist,\")\n",
    "    print(\"use merge_bn.py to generate it.\")\n",
    "    exit()\n",
    "net = caffe.Net(net_file,caffe_model,caffe.TEST)  \n",
    "\n",
    "CLASSES = ('background',\n",
    "           'aeroplane', 'bicycle', 'bird', 'boat',\n",
    "           'bottle', 'bus', 'car', 'cat', 'chair',\n",
    "           'cow', 'diningtable', 'dog', 'horse',\n",
    "           'motorbike', 'person', 'pottedplant',\n",
    "           'sheep', 'sofa', 'train', 'tvmonitor')"
   ]
  },
  {
   "cell_type": "code",
   "execution_count": null,
   "metadata": {},
   "outputs": [],
   "source": [
    "def preprocess(src):\n",
    "    img = cv2.resize(src, (300,300))\n",
    "    img = img - 127.5\n",
    "    img = img * 0.007843\n",
    "    return img\n",
    "\n",
    "def postprocess(img, oupyt):   \n",
    "    h = img.shape[0]\n",
    "    w = img.shape[1]\n",
    "    box = out['detection_out'][0,0,:,3:7] * np.array([w, h, w, h])\n",
    "\n",
    "    cls = out['detection_out'][0,0,:,1]\n",
    "    conf = out['detection_out'][0,0,:,2]\n",
    "    return (box.astype(np.int32), conf, cls)\n",
    "\n",
    "def detect(imgfile):\n",
    "    origimg = cv2.imread(imgfile)\n",
    "    img = preprocess(origimg)\n",
    "    \n",
    "    img = img.astype(np.float32)\n",
    "    img = img.transpose((2, 0, 1))\n",
    "\n",
    "    net.blobs['data'].data[...] = img\n",
    "    out = net.forward()  \n",
    "    box, conf, cls = postprocess(origimg, out)\n",
    "\n",
    "    for i in range(len(box)):\n",
    "       p1 = (box[i][0], box[i][1])\n",
    "       p2 = (box[i][2], box[i][3])\n",
    "       cv2.rectangle(origimg, p1, p2, (0,255,0))\n",
    "       p3 = (max(p1[0], 15), max(p1[1], 15))\n",
    "       title = \"%s:%.2f\" % (CLASSES[int(cls[i])], conf[i])\n",
    "       cv2.putText(origimg, title, p3, cv2.FONT_ITALIC, 0.6, (0, 255, 0), 1)\n",
    "    cv2.imshow(\"SSD\", origimg)\n",
    " \n",
    "    k = cv2.waitKey(0) & 0xff\n",
    "        #Exit if ESC pressed\n",
    "    if k == 27 : return False\n",
    "    return True\n",
    "\n",
    "for f in os.listdir(test_dir):\n",
    "    if detect(test_dir + \"/\" + f) == False:\n",
    "       break"
   ]
  }
 ],
 "metadata": {
  "kernelspec": {
   "display_name": "Python 3",
   "language": "python",
   "name": "python3"
  },
  "language_info": {
   "codemirror_mode": {
    "name": "ipython",
    "version": 3
   },
   "file_extension": ".py",
   "mimetype": "text/x-python",
   "name": "python",
   "nbconvert_exporter": "python",
   "pygments_lexer": "ipython3",
   "version": "3.6.5"
  }
 },
 "nbformat": 4,
 "nbformat_minor": 2
}
